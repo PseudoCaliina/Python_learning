{
 "cells": [
  {
   "cell_type": "code",
   "execution_count": 14,
   "metadata": {},
   "outputs": [],
   "source": [
    "### hw1 ###\n",
    "# input: N\n",
    "# get N number (a1,a2,...,aN)\n",
    "# output: aN, aN-1,..., a1\n",
    "\n",
    "import random as rd\n",
    "\n",
    "def do_reverse(input_num):\n",
    "    print('input number =', input_num)\n",
    "    start = -2**31\n",
    "    end = 2**31\n",
    "    \n",
    "    Value = []\n",
    "    for i in range(0, input_num): \n",
    "        Value.append(rd.randrange(start, end + 1,1))\n",
    "    print(*Value)\n",
    "    \n",
    "    re_Value = []\n",
    "    for i in range(input_num-1, -1, -1):\n",
    "        re_Value.append(Value[i])\n",
    "    print(*re_Value)"
   ]
  },
  {
   "cell_type": "code",
   "execution_count": 13,
   "metadata": {},
   "outputs": [
    {
     "name": "stdout",
     "output_type": "stream",
     "text": [
      "input number = 9\n",
      "556649977 1957723710 378683349 896761755 48341962 -682771130 279687353 -1132915556 984691811\n",
      "984691811 -1132915556 279687353 -682771130 48341962 896761755 378683349 1957723710 556649977\n"
     ]
    }
   ],
   "source": [
    "##　test the function\n",
    "do_reverse(9)\n"
   ]
  }
 ],
 "metadata": {
  "kernelspec": {
   "display_name": "Python 3",
   "language": "python",
   "name": "python3"
  },
  "language_info": {
   "codemirror_mode": {
    "name": "ipython",
    "version": 3
   },
   "file_extension": ".py",
   "mimetype": "text/x-python",
   "name": "python",
   "nbconvert_exporter": "python",
   "pygments_lexer": "ipython3",
   "version": "3.8.8"
  }
 },
 "nbformat": 4,
 "nbformat_minor": 2
}
